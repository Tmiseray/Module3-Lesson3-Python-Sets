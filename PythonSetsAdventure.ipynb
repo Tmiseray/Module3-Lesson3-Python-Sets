{
 "cells": [
  {
   "cell_type": "code",
   "execution_count": null,
   "metadata": {},
   "outputs": [],
   "source": [
    "\"\"\"\n",
    "Objective: The aim of this assignment is to deepen your understanding and application of Python sets.\n",
    "\n",
    "Task 1: Flight Route Comparison Imagine you work for an airline and need to compare the flight routes of your airline with a competitor. You have two sets of flight destinations, one for each airline. Write a Python program to find out:\n",
    "\n",
    "1. Destinations that both airlines fly to.\n",
    "\n",
    "2. Destinations unique to your airline.\n",
    "\n",
    "3. Whether there are any destinations that neither airline shares.\n",
    "\n",
    "Example Code:\n",
    "\n",
    "our_routes = {\"LAX\", \"JFK\", \"CDG\", \"DXB\"}\n",
    "competitor_routes = {\"JFK\", \"CDG\", \"LHR\", \"BKK\"}\n",
    "\n",
    "\"\"\""
   ]
  },
  {
   "cell_type": "code",
   "execution_count": null,
   "metadata": {},
   "outputs": [],
   "source": []
  }
 ],
 "metadata": {
  "language_info": {
   "name": "python"
  }
 },
 "nbformat": 4,
 "nbformat_minor": 2
}
