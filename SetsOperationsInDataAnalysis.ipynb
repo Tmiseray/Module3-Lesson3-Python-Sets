{
 "cells": [
  {
   "cell_type": "code",
   "execution_count": null,
   "metadata": {},
   "outputs": [],
   "source": [
    "\"\"\"\n",
    "Objective: The aim of this assignment is to enhance your skills in using Python sets for data analysis tasks. You will apply various set operations to handle real-world data scenarios, focusing on their practical application and efficiency.\n",
    "\n",
    "Task 1: Duplicate Entries Cleanup \n",
    "You are given a list of customer IDs, some of which are duplicated. Write a Python script to remove duplicates and display the unique customer IDs.\n",
    "\n",
    "Example Code:\n",
    "\n",
    "customer_ids = [\"C001\", \"C002\", \"C003\", \"C002\", \"C001\", \"C004\"]\n",
    "Expected Outcome: A set of unique customer IDs, ensuring no duplicates. For instance, `{'C001', 'C002', 'C003', 'C004'}`. ---\n",
    "\n",
    "\"\"\""
   ]
  },
  {
   "cell_type": "code",
   "execution_count": 4,
   "metadata": {},
   "outputs": [
    {
     "name": "stdout",
     "output_type": "stream",
     "text": [
      "\n",
      "* Sorted Unique Customer IDs: *\n",
      "\t~ ID: C001\n",
      "\t~ ID: C002\n",
      "\t~ ID: C003\n",
      "\t~ ID: C004\n"
     ]
    }
   ],
   "source": [
    "customer_ids = [\"C001\", \"C002\", \"C003\", \"C002\", \"C001\", \"C004\"]\n",
    "\n",
    "def unique_id_print(customer_ids):\n",
    "    unique_ids = set(customer_ids)\n",
    "    print(\"\\n* Sorted Unique Customer IDs: *\")\n",
    "    for id in sorted(unique_ids):\n",
    "        print(f\"\\t~ ID: {id}\")\n",
    "\n",
    "unique_id_print(customer_ids)"
   ]
  },
  {
   "cell_type": "code",
   "execution_count": null,
   "metadata": {},
   "outputs": [],
   "source": []
  }
 ],
 "metadata": {
  "kernelspec": {
   "display_name": "Python 3",
   "language": "python",
   "name": "python3"
  },
  "language_info": {
   "codemirror_mode": {
    "name": "ipython",
    "version": 3
   },
   "file_extension": ".py",
   "mimetype": "text/x-python",
   "name": "python",
   "nbconvert_exporter": "python",
   "pygments_lexer": "ipython3",
   "version": "3.12.4"
  }
 },
 "nbformat": 4,
 "nbformat_minor": 2
}
